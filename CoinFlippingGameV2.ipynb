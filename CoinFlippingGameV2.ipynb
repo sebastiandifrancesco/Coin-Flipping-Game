{
 "cells": [
  {
   "cell_type": "code",
   "execution_count": 1,
   "metadata": {},
   "outputs": [],
   "source": [
    "import random\n",
    "import math\n",
    "import seaborn as sns\n",
    "import matplotlib.pyplot as plt\n",
    "import pandas as pd\n",
    "random.seed(420)\n",
    "experiment_runs = []\n",
    "# Loop for game to run on.\n",
    "def runCycle():\n",
    "    game = {\"cycle\" : 0,\n",
    "            \"pot\" : 2,\n",
    "            \"a\" : 4,\n",
    "            \"b\" : 4}\n",
    "    run = True\n",
    "    while run == True:\n",
    "        game[\"cycle\"] += 1\n",
    "        a_roll = random.randint(1,6)\n",
    "        #print(\"a_roll:\", a_roll)\n",
    "        # Nothing happens if 1 is rolled.\n",
    "        if a_roll == 1:\n",
    "            pass\n",
    "        # Player takes the entire pot if 2 is rolled.\n",
    "        elif a_roll == 2:\n",
    "            game[\"a\"] += game[\"pot\"]\n",
    "            game[\"pot\"] = 0\n",
    "        # Player takes half the pot rounded down if 3 is rolled.\n",
    "        elif a_roll == 3:\n",
    "            if game[\"pot\"] != 0:\n",
    "                game[\"a\"] += math.floor(game[\"pot\"]/2)\n",
    "                game[\"pot\"] -= math.floor(game[\"pot\"]/2)\n",
    "        # Player loses 1 to the pot if anything else is rolled.\n",
    "        elif a_roll in [4,5,6]:\n",
    "            game[\"a\"] += -1\n",
    "            game[\"pot\"] += 1\n",
    "        # If the player has no more coins to give the pot the game is over.\n",
    "        if game[\"a\"] == -1:\n",
    "            run = False\n",
    "        #print(\"A value:\", game[\"a\"])\n",
    "\n",
    "        b_roll = random.randint(1,6)\n",
    "        #print(\"b_roll:\", b_roll)\n",
    "        # Nothing happens if 1 is rolled.\n",
    "        if b_roll == 1:\n",
    "            pass\n",
    "        # Player takes the entire pot if 2 is rolled.\n",
    "        elif b_roll == 2:\n",
    "            game[\"b\"] += game[\"pot\"]\n",
    "            game[\"pot\"] = 0\n",
    "        # Player takes half the pot rounded down if 3 is rolled.\n",
    "        elif b_roll == 3:\n",
    "            if game[\"pot\"] != 0:\n",
    "                game[\"b\"] += math.floor(game[\"pot\"]/2)\n",
    "                game[\"pot\"] -= math.floor(game[\"pot\"]/2)\n",
    "        # Player loses 1 to the pot if anything else is rolled.\n",
    "        elif b_roll in [4,5,6]:\n",
    "            game[\"b\"] += -1\n",
    "            game[\"pot\"] += 1\n",
    "        # If the player has no more coins to give the pot the game is over.\n",
    "        if game[\"b\"] == -1:\n",
    "            run = False\n",
    "        #print(\"B value:\", game[\"b\"])\n",
    "        #print(\"Pot value:\", game[\"pot\"])\n",
    "        #print(\"Cycle:\", game[\"cycle\"]) \n",
    "    if run == False:\n",
    "        experiment_runs.append(game['cycle'])\n",
    "        "
   ]
  },
  {
   "cell_type": "code",
   "execution_count": 2,
   "metadata": {},
   "outputs": [
    {
     "name": "stdout",
     "output_type": "stream",
     "text": [
      "The expected number of cycles the game will last for is: 17.49243\n"
     ]
    }
   ],
   "source": [
    "# Finds the expected number of cycles the game will run before a winner is declared.\n",
    "experiment_runs = []\n",
    "for i in range(100000):\n",
    "    runCycle()\n",
    "expected_number_of_cycles = sum(experiment_runs)/100000\n",
    "print(f\"The expected number of cycles the game will last for is: {expected_number_of_cycles}\")"
   ]
  },
  {
   "cell_type": "code",
   "execution_count": 3,
   "metadata": {},
   "outputs": [
    {
     "data": {
      "text/html": [
       "<div>\n",
       "<style scoped>\n",
       "    .dataframe tbody tr th:only-of-type {\n",
       "        vertical-align: middle;\n",
       "    }\n",
       "\n",
       "    .dataframe tbody tr th {\n",
       "        vertical-align: top;\n",
       "    }\n",
       "\n",
       "    .dataframe thead th {\n",
       "        text-align: right;\n",
       "    }\n",
       "</style>\n",
       "<table border=\"1\" class=\"dataframe\">\n",
       "  <thead>\n",
       "    <tr style=\"text-align: right;\">\n",
       "      <th></th>\n",
       "      <th>0</th>\n",
       "    </tr>\n",
       "  </thead>\n",
       "  <tbody>\n",
       "    <tr>\n",
       "      <th>count</th>\n",
       "      <td>100000.000000</td>\n",
       "    </tr>\n",
       "    <tr>\n",
       "      <th>mean</th>\n",
       "      <td>17.492430</td>\n",
       "    </tr>\n",
       "    <tr>\n",
       "      <th>std</th>\n",
       "      <td>12.673266</td>\n",
       "    </tr>\n",
       "    <tr>\n",
       "      <th>min</th>\n",
       "      <td>5.000000</td>\n",
       "    </tr>\n",
       "    <tr>\n",
       "      <th>25%</th>\n",
       "      <td>8.000000</td>\n",
       "    </tr>\n",
       "    <tr>\n",
       "      <th>50%</th>\n",
       "      <td>14.000000</td>\n",
       "    </tr>\n",
       "    <tr>\n",
       "      <th>75%</th>\n",
       "      <td>22.000000</td>\n",
       "    </tr>\n",
       "    <tr>\n",
       "      <th>max</th>\n",
       "      <td>158.000000</td>\n",
       "    </tr>\n",
       "  </tbody>\n",
       "</table>\n",
       "</div>"
      ],
      "text/plain": [
       "                   0\n",
       "count  100000.000000\n",
       "mean       17.492430\n",
       "std        12.673266\n",
       "min         5.000000\n",
       "25%         8.000000\n",
       "50%        14.000000\n",
       "75%        22.000000\n",
       "max       158.000000"
      ]
     },
     "execution_count": 3,
     "metadata": {},
     "output_type": "execute_result"
    }
   ],
   "source": [
    "# Basic Statistics\n",
    "df = pd.DataFrame(experiment_runs)\n",
    "df.describe()"
   ]
  },
  {
   "cell_type": "code",
   "execution_count": 4,
   "metadata": {},
   "outputs": [
    {
     "name": "stderr",
     "output_type": "stream",
     "text": [
      "C:\\Users\\Sebeast\\anaconda3\\lib\\site-packages\\seaborn\\_decorators.py:43: FutureWarning: Pass the following variable as a keyword arg: x. From version 0.12, the only valid positional argument will be `data`, and passing other arguments without an explicit keyword will result in an error or misinterpretation.\n",
      "  FutureWarning\n"
     ]
    },
    {
     "name": "stdout",
     "output_type": "stream",
     "text": [
      "\n",
      "The lower quartile of temperatures is: 8.0\n",
      "The upper quartile of temperatures is: 22.0\n",
      "The interquartile range of temperatures is: 14.0\n",
      "The the median of temperatures is: 14.0 \n",
      "Values below -13.0 could be outliers.\n",
      "Values above 43.0 could be outliers.\n"
     ]
    },
    {
     "data": {
      "image/png": "[encoded data removed]",
      "text/plain": [
       "<Figure size 1440x360 with 1 Axes>"
      ]
     },
     "metadata": {
      "needs_background": "light"
     },
     "output_type": "display_data"
    }
   ],
   "source": [
    "# Box and Whisker Plot\n",
    "fig_dims = (20, 5)\n",
    "fig, ax = plt.subplots(figsize=fig_dims)\n",
    "boxplot = sns.boxplot(experiment_runs)\n",
    "plt.title('Plot of Distribution of Last Cycle Number of 100000 Simulations')\n",
    "plt.xlabel('Last Cycle Number')\n",
    "quartiles = df[0].quantile([.25,.5,.75])\n",
    "print(\"\")\n",
    "lowerq = quartiles[0.25]\n",
    "upperq = quartiles[0.75]\n",
    "iqr = upperq-lowerq\n",
    "\n",
    "print(f\"The lower quartile of temperatures is: {lowerq}\")\n",
    "print(f\"The upper quartile of temperatures is: {upperq}\")\n",
    "print(f\"The interquartile range of temperatures is: {iqr}\")\n",
    "print(f\"The the median of temperatures is: {quartiles[0.5]} \")\n",
    "\n",
    "lower_bound = lowerq - (1.5*iqr)\n",
    "upper_bound = upperq + (1.5*iqr)\n",
    "print(f\"Values below {lower_bound} could be outliers.\")\n",
    "print(f\"Values above {upper_bound} could be outliers.\")"
   ]
  },
  {
   "cell_type": "code",
   "execution_count": 5,
   "metadata": {},
   "outputs": [
    {
     "data": {
      "text/plain": [
       "Text(0.5, 0, 'Last Cycle Number')"
      ]
     },
     "execution_count": 5,
     "metadata": {},
     "output_type": "execute_result"
    },
    {
     "data": {
      "image/png": "[encoded data removed]",
      "text/plain": [
       "<Figure size 1440x720 with 1 Axes>"
      ]
     },
     "metadata": {
      "needs_background": "light"
     },
     "output_type": "display_data"
    }
   ],
   "source": [
    "# Bar Chart\n",
    "fig_dims = (20, 10)\n",
    "fig, ax = plt.subplots(figsize=fig_dims)\n",
    "hist = sns.histplot(experiment_runs, binwidth=3)\n",
    "plt.title('Plot of Distribution of Last Cycle Number of 100000 Simulations')\n",
    "plt.xlabel('Last Cycle Number')"
   ]
  }
 ],
 "metadata": {
  "kernelspec": {
   "display_name": "Python 3",
   "language": "python",
   "name": "python3"
  },
  "language_info": {
   "codemirror_mode": {
    "name": "ipython",
    "version": 3
   },
   "file_extension": ".py",
   "mimetype": "text/x-python",
   "name": "python",
   "nbconvert_exporter": "python",
   "pygments_lexer": "ipython3",
   "version": "3.7.6"
  }
 },
 "nbformat": 4,
 "nbformat_minor": 4
}
